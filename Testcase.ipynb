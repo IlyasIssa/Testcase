{
  "nbformat": 4,
  "nbformat_minor": 0,
  "metadata": {
    "colab": {
      "provenance": [],
      "collapsed_sections": [
        "hxouIX81D94p",
        "9IZgexsD8TcK",
        "0RMqG-Br_kdh"
      ]
    },
    "kernelspec": {
      "name": "python3",
      "display_name": "Python 3"
    },
    "language_info": {
      "name": "python"
    }
  },
  "cells": [
    {
      "cell_type": "markdown",
      "source": [
        "# 1 Успешность прототипа\n",
        "Известно что компания конкурент выпустила 1000 прототипов игр, из которых было 5 успешных. Наша компания выпустила 200 прототипов из которых ни один не был успешен.\n",
        "Какова вероятность что следующий (201й) наш прототип будет успешен? Решите задачу классическим и баесовским подходами.\n"
      ],
      "metadata": {
        "id": "hxouIX81D94p"
      }
    },
    {
      "cell_type": "code",
      "source": [
        "def classical_approach(competitor_successes, competitor_attempts, our_successes, our_attempts):\n",
        "    total_successes = competitor_successes + our_successes\n",
        "    total_attempts = competitor_attempts + our_attempts\n",
        "    return total_successes / total_attempts\n",
        "\n",
        "def bayesian_approach(competitor_successes, competitor_attempts, our_successes, our_attempts):\n",
        "\n",
        "    alpha = 1.0\n",
        "    beta = 1.0\n",
        "\n",
        "    alpha += competitor_successes\n",
        "    beta += competitor_attempts - competitor_successes\n",
        "\n",
        "    alpha += our_successes\n",
        "    beta += our_attempts - our_successes\n",
        "\n",
        "\n",
        "    return alpha / (alpha + beta)\n",
        "\n",
        "competitor_successes = 5\n",
        "competitor_attempts = 1000\n",
        "our_successes = 0\n",
        "our_attempts = 200\n",
        "\n",
        "classical_prob = classical_approach(competitor_successes, competitor_attempts, our_successes, our_attempts)\n",
        "bayesian_prob = bayesian_approach(competitor_successes, competitor_attempts, our_successes, our_attempts)\n",
        "\n",
        "print(f\"Классическая вероятность успеха: {classical_prob*100:.2f} %\")\n",
        "print(f\"Байесовская вероятность успеха: {bayesian_prob*100:.2f} %\")\n",
        "\n",
        "\n"
      ],
      "metadata": {
        "id": "LI5ecqZ0MUm9",
        "colab": {
          "base_uri": "https://localhost:8080/"
        },
        "outputId": "4908b876-f4a6-4fc9-9256-e20f7594aa95"
      },
      "execution_count": 16,
      "outputs": [
        {
          "output_type": "stream",
          "name": "stdout",
          "text": [
            "Классическая вероятность успеха: 0.42 %\n",
            "Байесовская вероятность успеха: 0.50 %\n"
          ]
        }
      ]
    },
    {
      "cell_type": "markdown",
      "source": [
        "**Гипотеза:** Для рассчета вероятностей я предположил, что **вероятность успеха нашей компании идентична с результатами конкурента**.\n",
        "1. Поэтому для **классического** метода я сделал общую выборку.\n",
        "2. Для расчет **байесовским** методам я также учел данные обеих компаний, и взял нейтральную начальную точку начав с равномерного априорного распределения и обновляя их с учетом результатов обеих компаний\n"
      ],
      "metadata": {
        "id": "buOxunv9SRzK"
      }
    },
    {
      "cell_type": "markdown",
      "source": [
        "# 2 Сравнение групп платящих игроков\n",
        "В мобильной игре около 10% игроков совершает платежи в первый месяц с момента установки игры (база расчета - 500 игроков).\n",
        "Геймдизайнеры разработали обновление которое по их экспертной оценке должно увеличить процент плательщиков с 10% до 11%. Цель эксперимента - подтвердить или опровергнуть их гипотезу.\n",
        "1.\tОпишите оптимальный по вашему мнению дизайн эксперимента\n",
        "2.\tРассчитайте длительность эксперимента при условии что каждый день в игру приходит около 100 новых игроков.\n",
        "3.\tСамостоятельно сгенерируйте датасет с около 10% плательщиков (контроль) и рассчитайте 95% HDI / CI.\n",
        "4.\tСгенерируйте несколько вариантов экспериментальной группы (хуже, лучше, без эффекта), рассчитайте силу эффекта, HDI / CI и ваши выводы для каждого варианта.\n",
        "5.\tРешите задачу 2 разными подходами: frequentist / bayesian\n"
      ],
      "metadata": {
        "id": "9IZgexsD8TcK"
      }
    },
    {
      "cell_type": "markdown",
      "source": [
        "1. ***Опишите оптимальный по вашему мнению дизайн эксперимента***\n",
        "\n",
        "На основе вводных данных оптимальными дизайнами эксперимента для проверки гипотезы будут A/B тестирование и Когортный анализ. Однако в коретном описанном случае, мы не имеем достаточных данных о пользователей для проведения когортного анализа, соответвественно оптимальным решением будет Сплит тестирование или же A/B тестирование. Мы одновременно даем пользователям две версии игры, версия до обновления и после, все новые игроки будут равномерно распределены на две группы контрольную со старой версией и экспериментальную с новой версией. Гипотеза задана по заданию, статистически значимый результат будет увеличение процента плательщиков на 1%, ошибка первого рода и мощность будут взяты стандартные 5% и 80% соответсвенно, размер выборки определен по формуле и равен 14 313 в каждой группе.\n",
        "2. ***Рассчитайте длительность эксперимента при условии что каждый день в игру приходит около 100 новых игроков.***\n",
        "\n",
        "Так как размер выборки 14 313 в каждой группе, и по заданию 100 игроков каждый день, по 50 в каждую группу, длительность теста будет 286 дней."
      ],
      "metadata": {
        "id": "IrHoqBRV8cdQ"
      }
    },
    {
      "cell_type": "code",
      "source": [
        "import random\n",
        "from scipy.stats import beta\n",
        "import numpy as np\n",
        "\n",
        "def generate_data(n_players, payer_proportion):\n",
        "  payers = [random.random() < payer_proportion for _ in range(n_players)]\n",
        "  return payers\n",
        "\n",
        "def calculate_hdi(data):\n",
        "  n_payers = sum(data)\n",
        "  a = n_payers + 1\n",
        "  b = len(data) - n_payers + 1\n",
        "  hdi_lower, hdi_upper = beta.interval(0.95, a, b)\n",
        "  mean = sum(data) / len(data)\n",
        "  effect_size = (mean - payer_proportion) / np.sqrt((mean * (1 - mean)) / n_players)\n",
        "  return hdi_lower, hdi_upper, effect_size\n",
        "\n",
        "\n",
        "n_players = 14313\n",
        "payer_proportion = 0.1\n",
        "\n",
        "control_dataset = generate_data(n_players, payer_proportion)\n",
        "hdi_lower, hdi_upper, effect_size = calculate_hdi(control_dataset)\n",
        "\n",
        "print(f\"Контрольная группа\")\n",
        "print(f\"Доля плательщиков: {sum(control_dataset) / n_players:.2f}\")\n",
        "print(f\"95% HDI: [{hdi_lower:.4f}, {hdi_upper:.4f}]\\n\")\n",
        "\n"
      ],
      "metadata": {
        "colab": {
          "base_uri": "https://localhost:8080/"
        },
        "id": "jRUrBE12b1af",
        "outputId": "f5a5ac18-60f1-484f-de5d-04f2a3cc3d63"
      },
      "execution_count": 17,
      "outputs": [
        {
          "output_type": "stream",
          "name": "stdout",
          "text": [
            "Контрольная группа\n",
            "Доля плательщиков: 0.10\n",
            "95% HDI: [0.0994, 0.1094]\n",
            "\n"
          ]
        }
      ]
    },
    {
      "cell_type": "markdown",
      "source": [
        "4.\t***Сгенерируйте несколько вариантов экспериментальной группы (хуже, лучше, без эффекта), рассчитайте силу эффекта, HDI / CI и ваши выводы для каждого варианта.***"
      ],
      "metadata": {
        "id": "VoRSetZS12gj"
      }
    },
    {
      "cell_type": "code",
      "source": [
        "better_proportion = 0.11\n",
        "worse_proportion = 0.08\n",
        "same_proportion = 0.10\n",
        "\n",
        "better_dataset =  generate_data(n_players, better_proportion)\n",
        "worse_dataset =  generate_data(n_players, worse_proportion)\n",
        "same_dataset  = generate_data(n_players, same_proportion)\n",
        "\n",
        "hdi_lower_b, hdi_upper_b, effect_size_b = calculate_hdi (better_dataset)\n",
        "hdi_lower_w, hdi_upper_w, effect_size_w = calculate_hdi (worse_dataset)\n",
        "hdi_lower_s, hdi_upper_s, effect_size_s = calculate_hdi (same_dataset)\n",
        "\n",
        "print(f\"Лучшая группа:\")\n",
        "print(f\"Доля плательщиков: {sum(better_dataset) / n_players:.2f}\")\n",
        "print(f\"95% Highest Density Interval (HDI): [{hdi_lower_b:.4f}, {hdi_upper_b:.4f}]\")\n",
        "print(f\"Сила эффекта: {effect_size_b:.2f}\\n\")\n",
        "\n",
        "print(f\"Худшая группа:\")\n",
        "print(f\"Доля плательщиков: {sum(worse_dataset) / n_players:.2f}\")\n",
        "print(f\"95% HDI: [{hdi_lower_w:.4f}, {hdi_upper_w:.4f}]\")\n",
        "print(f\"Сила эффекта: {effect_size_w:.2f}\\n\")\n",
        "\n",
        "print(f\"Группа без изменений:\")\n",
        "print(f\"Доля плательщиков: {sum(same_dataset) / n_players:.2f}\")\n",
        "print(f\"95% HDI: [{hdi_lower_s:.4f}, {hdi_upper_s:.4f}]\")\n",
        "print(f\"Сила эффекта: {effect_size_s:.2f}\\n\")"
      ],
      "metadata": {
        "colab": {
          "base_uri": "https://localhost:8080/"
        },
        "id": "F15ycBxQduT_",
        "outputId": "21653ed8-2057-4cbc-9cd2-20b2936b0442"
      },
      "execution_count": 18,
      "outputs": [
        {
          "output_type": "stream",
          "name": "stdout",
          "text": [
            "Лучшая группа:\n",
            "Доля плательщиков: 0.11\n",
            "95% Highest Density Interval (HDI): [0.1066, 0.1169]\n",
            "Сила эффекта: 4.42\n",
            "\n",
            "Худшая группа:\n",
            "Доля плательщиков: 0.08\n",
            "95% HDI: [0.0752, 0.0841]\n",
            "Сила эффекта: -9.06\n",
            "\n",
            "Группа без изменений:\n",
            "Доля плательщиков: 0.10\n",
            "95% HDI: [0.0995, 0.1095]\n",
            "Сила эффекта: 1.71\n",
            "\n"
          ]
        }
      ]
    },
    {
      "cell_type": "markdown",
      "source": [
        "1. Лучшая группа показала значительное улучшение доли плательщиков, с силой эффекта в 3.74%, что даже превышает ожидаемые результаты. И интервал достоверности так же показывает, что измениние значительное.\n",
        "2. Худшая группа же как и ожидалось показала значительное уменьшение доли плательщиков, сила эффекта и интревал доказывают значительность изменения.\n",
        "3. Нейтральна группа показала небольшое уменьшие доли плательщиков, однако значение небольшое и интервал очень близок к изначальному интервалу. Хоть и ожидалось, что это группа покажет нейтральный результат было незначительное понижение, это может быть связано со статистическими колебаниями."
      ],
      "metadata": {
        "id": "YlVD8x5bbxcD"
      }
    },
    {
      "cell_type": "markdown",
      "source": [
        "***5.\tРешите задачу 2 разными подходами: frequentist / bayesian***"
      ],
      "metadata": {
        "id": "ebRjheeG2hM6"
      }
    },
    {
      "cell_type": "markdown",
      "source": [
        "1.\tFrequentist подход"
      ],
      "metadata": {
        "id": "hBnCIh7v2mVr"
      }
    },
    {
      "cell_type": "code",
      "source": [
        "import numpy as np\n",
        "from statsmodels.stats.proportion import proportions_ztest\n",
        "\n",
        "\n",
        "control_successes = np.sum(control_dataset)\n",
        "control_n = len(control_dataset)\n",
        "\n",
        "def run_z_test(group_data, group_name):\n",
        "    group_successes = np.sum(group_data)\n",
        "    group_n = len(group_data)\n",
        "\n",
        "    z_stat, p_value = proportions_ztest([  group_successes , control_successes], [control_n, group_n])\n",
        "    if z_stat > 0 and p_value < 0.05:\n",
        "      print(\"Нyлевая гипотеза опровергнyта, положительное статистическое изменение \")\n",
        "    else:\n",
        "      print(\"Невозможно отвергнуть нулевую гипотезу\")\n",
        "    print(f\"{group_name} group: z-statistic = {z_stat:.3f}, p-value = {p_value:.6f}\\n\")\n",
        "    return group_name, z_stat, p_value\n",
        "\n",
        "\n",
        "results_better = run_z_test(better_dataset, \"Better\")\n",
        "\n",
        "results_worse = run_z_test(worse_dataset, \"Worse\")\n",
        "\n",
        "results_same = run_z_test(same_dataset, \"Same\")\n",
        "\n"
      ],
      "metadata": {
        "colab": {
          "base_uri": "https://localhost:8080/"
        },
        "id": "7Yc-E1YS0Vq1",
        "outputId": "6475b428-20c7-4caa-9e61-48133501b738"
      },
      "execution_count": 9,
      "outputs": [
        {
          "output_type": "stream",
          "name": "stdout",
          "text": [
            "Нyлевая гипотеза опровергнyта, положительное статистическое изменение \n",
            "Better group: z-statistic = 3.583, p-value = 0.000339\n",
            "\n",
            "Невозможно отвергнуть нулевую гипотезу\n",
            "Worse group: z-statistic = -4.534, p-value = 0.000006\n",
            "\n",
            "Невозможно отвергнуть нулевую гипотезу\n",
            "Same group: z-statistic = 0.737, p-value = 0.460988\n",
            "\n"
          ]
        }
      ]
    },
    {
      "cell_type": "markdown",
      "source": [
        "Результаты **Frequentist подхода**, полностью опрадывают ожидаемые результаты. Данный подход использует **z-tеst **для сравнения средних значений метрики между контрольной и экспериментальной группы. Положительное **значение z** говорит о том что среднее значение метрики в первой группе (в нашем случае это экспериметальная) больше, чем в контрольной группе, **p-valuе** показывает ниже 0.05  показывает, что результат статистически значимый. Для лучшей и худшей группы результаты полностью подходят под ожидания, результат нейтральной группы показывает небольшое изменение доли плательщиков в экспериментальной группе, однако размер p-valuе показывает, что изменение статистически не значимое."
      ],
      "metadata": {
        "id": "NfrxGsiXgUs7"
      }
    },
    {
      "cell_type": "markdown",
      "source": [
        "2. Bayesian подход"
      ],
      "metadata": {
        "id": "PE2P-veA24v3"
      }
    },
    {
      "cell_type": "code",
      "source": [
        "import numpy as np\n",
        "\n",
        "def bayesian_update(data):\n",
        "    successes = np.sum(data)\n",
        "    failures = len(data) - successes\n",
        "\n",
        "    a_prior = 1\n",
        "    b_prior = 1\n",
        "\n",
        "\n",
        "    a_post = a_prior + successes\n",
        "    b_post = b_prior + failures\n",
        "\n",
        "    posterior_samples = np.random.beta(a_post, b_post, size= 14313)\n",
        "\n",
        "\n",
        "    lower_bound, upper_bound = np.percentile(posterior_samples, [2.5, 97.5])\n",
        "\n",
        "    return {\n",
        "        \"mean\": np.mean(posterior_samples),\n",
        "        \"95% CI\": (lower_bound, upper_bound),\n",
        "        \"samples\": posterior_samples\n",
        "    }\n",
        "\n",
        "\n",
        "def interpret_results(control, experiment, description):\n",
        "\n",
        "    mean_diff = experiment['mean'] - control['mean']\n",
        "\n",
        "    ci_overlap = control['95% CI'][1] > experiment['95% CI'][0] and control['95% CI'][0] < experiment['95% CI'][1]\n",
        "\n",
        "    interpretation = f\"Группа '{description}' имеет среднюю долю плательщиков {experiment['mean']*100:.2f} %. \"\n",
        "    interpretation += f\" HDI интервал: от {experiment['95% CI'][0]*100:.2f}% до {experiment['95% CI'][1]*100:.2f}%. \"\n",
        "\n",
        "    if mean_diff > 0 and not ci_overlap:\n",
        "        interpretation += \"Значительное положительное улучшение по сравнению с контрольной группой.\"\n",
        "    elif mean_diff < 0 and not ci_overlap:\n",
        "        interpretation += \"Значительное ухудшение по сравнению с контрольной группой.\"\n",
        "    else:\n",
        "        interpretation += \"Нет значительного изменения по сравнению с контрольной группой.\"\n",
        "\n",
        "    return interpretation\n",
        "\n",
        "\n",
        "bayesian_control = bayesian_update(control_dataset)\n",
        "\n",
        "\n",
        "bayesian_better = bayesian_update(better_dataset)\n",
        "bayesian_worse = bayesian_update(worse_dataset)\n",
        "bayesian_same = bayesian_update(same_dataset)\n",
        "\n",
        "\n",
        "Better = interpret_results(bayesian_control, bayesian_better, \"Лучше\")\n",
        "Worse = interpret_results(bayesian_control, bayesian_worse, \"Хуже\")\n",
        "Same = interpret_results(bayesian_control, bayesian_same, \"Без изменений\")\n",
        "\n",
        "\n",
        "(Better, Worse, Same)\n",
        "\n"
      ],
      "metadata": {
        "colab": {
          "base_uri": "https://localhost:8080/"
        },
        "id": "mytwimsl2_hj",
        "outputId": "06d2efb6-95fc-4f8f-9920-4555ddff97cd"
      },
      "execution_count": 10,
      "outputs": [
        {
          "output_type": "execute_result",
          "data": {
            "text/plain": [
              "(\"Группа 'Лучше' имеет среднюю долю плательщиков 10.91 %.  HDI интервал: от 10.39% до 11.42%. Значительное положительное улучшение по сравнению с контрольной группой.\",\n",
              " \"Группа 'Хуже' имеет среднюю долю плательщиков 8.10 %.  HDI интервал: от 7.67% до 8.56%. Значительное ухудшение по сравнению с контрольной группой.\",\n",
              " \"Группа 'Без изменений' имеет среднюю долю плательщиков 9.88 %.  HDI интервал: от 9.41% до 10.37%. Нет значительного изменения по сравнению с контрольной группой.\")"
            ]
          },
          "metadata": {},
          "execution_count": 10
        }
      ]
    },
    {
      "cell_type": "markdown",
      "source": [
        "# 3 Предсказание оттока\n",
        "В мобильной игре, после установки и запуска игры начинается туториал - игрок проходит обучение игре, которое состоит из нескольких последовательных шагов.\n",
        "Данные представляют собой набор строк - уникальный id игрока, datetime и номер шага туториала который пройден игроком.\n",
        "Геймдизайнеры выдвинули гипотезу - если мы с высокой вероятностью сможем предсказать шаг на котором игрок уйдет из игры заранее, то запустив альтернативное продолжение туториала с этого шага мы избежим оттока и увеличим прохождение туториала.\n",
        "1.\tКак бы вы решали задачу предсказания отвала игрока?\n",
        "2.\tКак оценить качество полученной модели? Опишите методы которые знаете и какой считаете оптимальным и почему.\n",
        "3.\tПредположим что вы разработали модель которая с достаточной вероятностью предсказывает отвал. Опишите дизайн эксперимента и методологию по проверке гипотезы геймдизайнеров\n"
      ],
      "metadata": {
        "id": "0RMqG-Br_kdh"
      }
    },
    {
      "cell_type": "markdown",
      "source": [
        "1. Я бы разделил ответ на **два возможных подходов** для решения этой проблемы.\n",
        "  **Первый способ** является аналитическим, по аналогии с анализом воронок, мы можем отслеживать количество игроков на каждом из шагов туториала, тем самым определяя процент отвала игроков после каждого из шагов, так же зная медианное время проведенное игроком на каждом шаге, мы сможем провести анализ и выявим проблемный этап туториала. Этот подход не является полноценно достоверным, однако требует значительно меньше ресурсов.\n",
        "  **Второй способ** это обучение модели машинного обучения, для решения этой задачи я бы использовал последовательные модели, а именно виды рекуретных нейронных сетей, как **LSTM**. Несмотря на ресурсную затратность обучения такой модели, этот тип моделей учитывают временные зависимости и последовательность шагов, которые идеально подходят под наш случай.\n",
        "2. Для оценки качества получнной модели можно использовать **классические методы валидации**, используя исторические данные, которые не были использованы при тренировке и тесте, в нашем случае где важна последовательность действий пользователя, так же использовать классические метрики оценки, как **F1score** для оценки точности и полноты результатов.\n",
        "3. Для проверки гипотезы геймдизайнеров можно использовать **A/B тестирование**, разделяя всех игроков на две группы, контрольная группа продолжает использовать обычную версию, экспериментальная группа использует адаптивный туториал на основе разработанной модели. Игроки должны случайным образом равномерно быть распределены по группам. Длительность теста можно рассчитать по формуле в зависимости от потока игроков, ожидаемого прироста, мощности. В ходе экспиримента должны быть собранные данные по **метрикам** для анализа: процент игроков завершивших весь туториал, время потраченное на это, количество игровых ссесий для завершения туториала, время на каждом из шагов, шаг на котором игрок отваливается. После окончания эксперимента можно будет использовать **t-tеst** для сравнения средних значений метрик между контрольной и экспериментальной группы. Интерпритации данных полученных с анализа сможет потвердить или опровергнуть гипотезу"
      ],
      "metadata": {
        "id": "rZgE2BIDkvS6"
      }
    },
    {
      "cell_type": "markdown",
      "source": [
        "# 4 Эффективность рекламных кампаний\n",
        "Отдел маркетинга оперирует некоторым множеством рекламных кампаний. Первая часть оперирования состоит из запуска тестовых рекламных кампаний, у которых есть требования по KPI при достижении которых тест считается успешным.\n",
        "Успешные тесты переходят в разряд постоянных кампаний и вторая часть оперирования состоит из мониторинга постоянных кампаний - управление бюджетом кампании (COST) и мониторинг ее доходов (REVENUE), а так же соотношением доходов к расходам.\n",
        "Главный KPI для постоянных рекламных кампаний - ROAS на 60й день, т.е. какой процент от расходов кампания возвращает на 60й день.\n",
        "Для выполнения задачи необходимо использовать тестовый датасет (2 таблицы по расходам и доходам).\n",
        "1.\tОтдел маркетинга руководствуется гипотезой - чем больший COST расходуется на кампанию тем ниже ROAS 60го дня (рост CPI при увеличении объёма закупки при сохранении того же LTV 60го дня). На основании данных подтвердите или опровергните эту гипотезу. Исходите из того что мы точно знаем что CPI зависит от объема нелинейно, вопрос в том как эту зависимость описать и учесть во 2м вопросе.\n",
        "2.\tПо каждой рекламной кампании рассчитайте суточный рекламный бюджет который максимизирует абсолютную маркетинговую прибыль рекламной кампании (REVENUE 60 дня минус COST).\n",
        "3.\tИсходя из пункта 2 по каждой рекламной кампании дайте ваше заключение о том насколько нужно увеличить / уменьшить ее суточный бюджет либо вообще остановить.\n",
        "4.\tРешите проблему рекламных кампаний по которым еще нет полных 60 дней. Объясните почему ваше решение оптимально\n"
      ],
      "metadata": {
        "id": "4u39z8rYAKyd"
      }
    },
    {
      "cell_type": "code",
      "source": [
        "import sqlite3\n",
        "\n",
        "\n",
        "conn = sqlite3.connect('testcase.db')\n",
        "cursor = conn.cursor()\n",
        "cursor.execute(\"SELECT name FROM sqlite_master WHERE type='table';\")\n",
        "tables = cursor.fetchall()\n",
        "\n",
        "tables\n"
      ],
      "metadata": {
        "colab": {
          "base_uri": "https://localhost:8080/"
        },
        "id": "5MYPPJzJAMYH",
        "outputId": "26830edd-81e2-4448-d24f-f86654e9ade8"
      },
      "execution_count": 31,
      "outputs": [
        {
          "output_type": "execute_result",
          "data": {
            "text/plain": [
              "[('source_comparison',), ('costs',), ('revenue',)]"
            ]
          },
          "metadata": {},
          "execution_count": 31
        }
      ]
    },
    {
      "cell_type": "code",
      "source": [
        "\n",
        "cursor.execute(\"PRAGMA table_info(costs);\")\n",
        "schema_costs = cursor.fetchall()\n",
        "cursor.execute(\"PRAGMA table_info(revenue);\")\n",
        "schema_revenue = cursor.fetchall()\n",
        "\n",
        "schema_costs, schema_revenue\n"
      ],
      "metadata": {
        "collapsed": true,
        "colab": {
          "base_uri": "https://localhost:8080/"
        },
        "id": "tEdSWlnkvgwW",
        "outputId": "02f26b57-00ed-4e43-ae8d-d5a64943537d"
      },
      "execution_count": 32,
      "outputs": [
        {
          "output_type": "execute_result",
          "data": {
            "text/plain": [
              "([(0, 'Install_Dates', 'TEXT', 0, None, 0),\n",
              "  (1, 'campaign_id', 'INTEGER', 0, None, 0),\n",
              "  (2, 'Country', 'TEXT', 0, None, 0),\n",
              "  (3, 'installs', 'REAL', 0, None, 0),\n",
              "  (4, 'spends', 'REAL', 0, None, 0)],\n",
              " [(0, 'Install_Dates', 'TEXT', 0, None, 0),\n",
              "  (1, 'campaign_id', 'INTEGER', 0, None, 0),\n",
              "  (2, 'Country', 'TEXT', 0, None, 0),\n",
              "  (3, '1d_LTV', 'REAL', 0, None, 0),\n",
              "  (4, '3d_LTV', 'REAL', 0, None, 0),\n",
              "  (5, '7d_LTV', 'REAL', 0, None, 0),\n",
              "  (6, '14d_LTV', 'REAL', 0, None, 0),\n",
              "  (7, '30d_LTV', 'REAL', 0, None, 0),\n",
              "  (8, '60d_LTV', 'REAL', 0, None, 0)])"
            ]
          },
          "metadata": {},
          "execution_count": 32
        }
      ]
    },
    {
      "cell_type": "code",
      "source": [
        "import pandas as pd\n",
        "\n",
        "query_costs = \"SELECT * FROM costs;\"\n",
        "costs_data = pd.read_sql_query(query_costs, conn)\n",
        "\n",
        "query_revenue = \"SELECT * FROM revenue;\"\n",
        "revenue_data = pd.read_sql_query(query_revenue, conn)\n"
      ],
      "metadata": {
        "id": "N1NZIjnZo-Br"
      },
      "execution_count": 33,
      "outputs": []
    },
    {
      "cell_type": "code",
      "source": [
        "\n",
        "from sklearn.linear_model import LinearRegression\n",
        "import numpy as np\n",
        "import statsmodels.api as sm\n",
        "\n",
        "\n",
        "merged_data = pd.merge(costs_data, revenue_data, on=['Install_Dates', 'campaign_id', 'Country'])\n",
        "merged_data['ROAS_60d'] = ((merged_data['60d_LTV']) / merged_data['spends'])*100\n",
        "\n",
        "filtered_data = merged_data[(merged_data['spends'] > 0) & (merged_data['60d_LTV'] > 0)]\n",
        "\n",
        "X = filtered_data[['spends']]\n",
        "y = filtered_data['ROAS_60d']\n",
        "\n",
        "X = sm.add_constant(X)\n",
        "model_1 = sm.OLS(y, X).fit()\n",
        "\n",
        "print(model_1.summary())"
      ],
      "metadata": {
        "colab": {
          "base_uri": "https://localhost:8080/"
        },
        "id": "wTBIpADQvriY",
        "outputId": "989e91bf-8ed4-40ef-d488-93c0a60a3d65"
      },
      "execution_count": 34,
      "outputs": [
        {
          "output_type": "stream",
          "name": "stdout",
          "text": [
            "                            OLS Regression Results                            \n",
            "==============================================================================\n",
            "Dep. Variable:               ROAS_60d   R-squared:                       0.001\n",
            "Model:                            OLS   Adj. R-squared:                  0.001\n",
            "Method:                 Least Squares   F-statistic:                     5.781\n",
            "Date:                Wed, 22 May 2024   Prob (F-statistic):             0.0162\n",
            "Time:                        14:34:27   Log-Likelihood:                -31721.\n",
            "No. Observations:                4035   AIC:                         6.345e+04\n",
            "Df Residuals:                    4033   BIC:                         6.346e+04\n",
            "Df Model:                           1                                         \n",
            "Covariance Type:            nonrobust                                         \n",
            "==============================================================================\n",
            "                 coef    std err          t      P>|t|      [0.025      0.975]\n",
            "------------------------------------------------------------------------------\n",
            "const        203.4109     10.526     19.324      0.000     182.773     224.048\n",
            "spends        -0.4411      0.183     -2.404      0.016      -0.801      -0.081\n",
            "==============================================================================\n",
            "Omnibus:                     8194.097   Durbin-Watson:                   2.010\n",
            "Prob(Omnibus):                  0.000   Jarque-Bera (JB):         23771326.609\n",
            "Skew:                          16.695   Prob(JB):                         0.00\n",
            "Kurtosis:                     377.534   Cond. No.                         61.1\n",
            "==============================================================================\n",
            "\n",
            "Notes:\n",
            "[1] Standard Errors assume that the covariance matrix of the errors is correctly specified.\n"
          ]
        }
      ]
    },
    {
      "cell_type": "markdown",
      "source": [
        "На основе анализа данных мы модели мы видим, что коэфициент равен -0,441, что говорит о верности выдвинутой теории геймдизайнеров, чем больший COST расходуется на кампанию тем ниже ROAS 60го дня, однако значение R^2 говорит о том, что эта модель слабо описывает связь между двумя переменными. Я так же пробовал другие виды регрессий и рассчета взаимосвязи между переменными однако значение R^2 везде оставалось довольно низким, что может говорить о том, что для оценки связи между этими переменными мы должны учитывать дополнительные факторы тем самым дополнив гипотезу."
      ],
      "metadata": {
        "id": "R9H043QYj5OR"
      }
    },
    {
      "cell_type": "code",
      "source": [
        "\n",
        "def calculate_profit(cost, intercept, coef):\n",
        "    roas = intercept + coef * cost\n",
        "    revenue_60d = (roas / 100) * cost\n",
        "    profit = revenue_60d - cost\n",
        "    return profit\n",
        "\n",
        "unique_campaigns = filtered_data['campaign_id'].unique()\n",
        "\n",
        "results = []\n",
        "n = 1\n",
        "for campaign in unique_campaigns:\n",
        "    campaign_data = filtered_data[filtered_data['campaign_id'] == campaign]\n",
        "\n",
        "    X_campaign = campaign_data[['spends']]\n",
        "    y_campaign = campaign_data['ROAS_60d']\n",
        "\n",
        "    X_campaign = sm.add_constant(X_campaign)\n",
        "    model_campaign = sm.OLS(y_campaign, X_campaign).fit()\n",
        "\n",
        "    intercept_campaign = model_campaign.params[0]\n",
        "    coef_campaign = model_campaign.params[1] if len(model_campaign.params) > 1 else 0\n",
        "\n",
        "\n",
        "    min_cost = campaign_data['spends'].min()\n",
        "    max_cost = campaign_data['spends'].max()\n",
        "\n",
        "\n",
        "    costs = np.linspace(min_cost, max_cost, 100)\n",
        "    profits = [calculate_profit(cost, intercept_campaign, coef_campaign) for cost in costs]\n",
        "\n",
        "    max_profit = max(profits)\n",
        "    optimal_cost = costs[profits.index(max_profit)]\n",
        "\n",
        "    results.append((campaign, optimal_cost, max_profit))\n",
        "\n",
        "\n",
        "results_df = pd.DataFrame(results, columns=['campaign_id',  'optimal_daily_budget', 'max_profit'])\n",
        "\n",
        "print(results_df)\n"
      ],
      "metadata": {
        "colab": {
          "base_uri": "https://localhost:8080/"
        },
        "id": "ouOtKoyINdzl",
        "outputId": "8281f56a-aa0b-4524-89bc-937e511856c6",
        "collapsed": true
      },
      "execution_count": 35,
      "outputs": [
        {
          "output_type": "stream",
          "name": "stdout",
          "text": [
            "     campaign_id  optimal_daily_budget  max_profit\n",
            "0          90570              9.989192    4.297024\n",
            "1          19115            381.960000  112.966467\n",
            "2         790424             43.190000   13.682117\n",
            "3         788583             43.800000   14.674237\n",
            "4         789470             24.800000    7.813091\n",
            "..           ...                   ...         ...\n",
            "188       161245              0.240000   -0.208873\n",
            "189        91343              5.450000   -5.237183\n",
            "190       789079              0.100000   -0.081380\n",
            "191       789069              0.380000   -0.361437\n",
            "192        95839              2.540000   -2.381477\n",
            "\n",
            "[193 rows x 3 columns]\n"
          ]
        }
      ]
    },
    {
      "cell_type": "code",
      "source": [
        "profit_threshold = 0\n",
        "average_spends = filtered_data.groupby('campaign_id')['spends'].mean()\n",
        "merged_new = pd.merge(results_df, average_spends, on=[ 'campaign_id'])\n",
        "\n",
        "def make_decision(row):\n",
        "    current_spend = row['spends']\n",
        "    optimal_spend = row['optimal_daily_budget']\n",
        "    max_profit = row['max_profit']\n",
        "\n",
        "    if max_profit <= profit_threshold:\n",
        "        return \"Stop\"\n",
        "    elif optimal_spend > current_spend:\n",
        "        return \"Increase Budget\"\n",
        "    elif optimal_spend < current_spend:\n",
        "        return \"Decrease Budget\"\n",
        "    else:\n",
        "        return \"Maintain Budget\"\n",
        "\n",
        "\n",
        "merged_new['decision'] = merged_new.apply(make_decision, axis=1)\n",
        "\n",
        "\n",
        "print(merged_new[['campaign_id', 'spends', 'optimal_daily_budget', 'max_profit', 'decision']])\n"
      ],
      "metadata": {
        "colab": {
          "base_uri": "https://localhost:8080/"
        },
        "id": "CYdaJBBbpSb-",
        "outputId": "100732fa-62cf-4386-ccf5-ca904d38c7d3"
      },
      "execution_count": 36,
      "outputs": [
        {
          "output_type": "stream",
          "name": "stdout",
          "text": [
            "     campaign_id     spends  optimal_daily_budget  max_profit         decision\n",
            "0          90570  16.467857              9.989192    4.297024  Decrease Budget\n",
            "1          19115  19.946333            381.960000  112.966467  Increase Budget\n",
            "2         790424  22.576667             43.190000   13.682117  Increase Budget\n",
            "3         788583  16.242000             43.800000   14.674237  Increase Budget\n",
            "4         789470  14.380000             24.800000    7.813091  Increase Budget\n",
            "..           ...        ...                   ...         ...              ...\n",
            "188       161245  16.950000              0.240000   -0.208873             Stop\n",
            "189        91343   5.450000              5.450000   -5.237183             Stop\n",
            "190       789079   0.100000              0.100000   -0.081380             Stop\n",
            "191       789069   0.380000              0.380000   -0.361437             Stop\n",
            "192        95839   2.540000              2.540000   -2.381477             Stop\n",
            "\n",
            "[193 rows x 5 columns]\n"
          ]
        }
      ]
    },
    {
      "cell_type": "markdown",
      "source": [
        "# 5 Связь рекламного траффика и органического\n",
        "Приток новых игроков делится на 2 основных источника - рекламный и органический. Отдел маркетинг выдвигает гипотезу о связи рекламного и органического траффика: когда маркетологи привлекают больше рекламного траффика, растет и органический.\n",
        "Для выполнения задачи необходимо использовать тестовый датасет (таблица source_comparison).\n",
        "1.\tИспользуя Causal Impact Analysis подтвердите или опровергните гипотезу маркетологов. Если вы ее опровергаете, то сформулируйте гипотезу которая кажется вам наиболее вероятной и проверьте ее\n",
        "2.\tКоличественно рассчитайте вероятность что гипотеза маркетологов (или ваша) верна\n"
      ],
      "metadata": {
        "id": "f39ZYqIlBVCO"
      }
    },
    {
      "cell_type": "code",
      "source": [
        "import sqlite3\n",
        "conn = sqlite3.connect('testcase.db')\n",
        "\n",
        "\n",
        "tables_query = \"SELECT name FROM sqlite_master WHERE type='table';\"\n",
        "tables = conn.execute(tables_query).fetchall()\n",
        "tables\n"
      ],
      "metadata": {
        "colab": {
          "base_uri": "https://localhost:8080/"
        },
        "id": "jDSS6DwmBeHE",
        "outputId": "932365c1-beff-43bd-b774-bd5cc1ab2feb"
      },
      "execution_count": 37,
      "outputs": [
        {
          "output_type": "execute_result",
          "data": {
            "text/plain": [
              "[('source_comparison',), ('costs',), ('revenue',)]"
            ]
          },
          "metadata": {},
          "execution_count": 37
        }
      ]
    },
    {
      "cell_type": "code",
      "source": [
        "\n",
        "source_comparison_query = \"SELECT * FROM source_comparison;\"\n",
        "source_comparison_data = conn.execute(source_comparison_query).fetchall()\n",
        "\n",
        "cursor = conn.execute(source_comparison_query)\n",
        "columns = [description[0] for description in cursor.description]\n",
        "columns\n"
      ],
      "metadata": {
        "colab": {
          "base_uri": "https://localhost:8080/"
        },
        "id": "GSSeTrBLBj54",
        "outputId": "cb38e76f-b5a4-437b-83c4-377e9e561835"
      },
      "execution_count": 38,
      "outputs": [
        {
          "output_type": "execute_result",
          "data": {
            "text/plain": [
              "['Install_Dates', 'source_type', 'Country', 'installs']"
            ]
          },
          "metadata": {},
          "execution_count": 38
        }
      ]
    },
    {
      "cell_type": "code",
      "source": [
        "import pandas as pd\n",
        "\n",
        "\n",
        "df = pd.DataFrame(source_comparison_data, columns=columns)\n",
        "\n",
        "df['Install_Dates'] = pd.to_datetime(df['Install_Dates'])\n",
        "\n",
        "\n",
        "data = df.groupby(['Install_Dates', 'source_type']).agg({'installs': 'sum'}).unstack()\n",
        "\n",
        "\n",
        "data.columns = ['Organic', 'Paid']\n",
        "\n",
        "data"
      ],
      "metadata": {
        "collapsed": true,
        "id": "7iWI5t54By8F",
        "colab": {
          "base_uri": "https://localhost:8080/",
          "height": 455
        },
        "outputId": "281f2f93-5f39-4b61-c48a-2052e5621b60"
      },
      "execution_count": 39,
      "outputs": [
        {
          "output_type": "execute_result",
          "data": {
            "text/plain": [
              "               Organic     Paid\n",
              "Install_Dates                  \n",
              "2020-03-18      8961.0   7359.0\n",
              "2020-03-19      8457.0   6739.0\n",
              "2020-03-20      8819.0   7254.0\n",
              "2020-03-21      4485.0   9552.0\n",
              "2020-03-22      5105.0  14804.0\n",
              "...                ...      ...\n",
              "2020-05-14      3324.0   8761.0\n",
              "2020-05-15      3207.0   7031.0\n",
              "2020-05-16      3732.0   7579.0\n",
              "2020-05-17      3461.0   8513.0\n",
              "2020-05-18      3672.0   8335.0\n",
              "\n",
              "[61 rows x 2 columns]"
            ],
            "text/html": [
              "\n",
              "  <div id=\"df-65ec4721-0df5-40c8-94fd-98faca809b5a\" class=\"colab-df-container\">\n",
              "    <div>\n",
              "<style scoped>\n",
              "    .dataframe tbody tr th:only-of-type {\n",
              "        vertical-align: middle;\n",
              "    }\n",
              "\n",
              "    .dataframe tbody tr th {\n",
              "        vertical-align: top;\n",
              "    }\n",
              "\n",
              "    .dataframe thead th {\n",
              "        text-align: right;\n",
              "    }\n",
              "</style>\n",
              "<table border=\"1\" class=\"dataframe\">\n",
              "  <thead>\n",
              "    <tr style=\"text-align: right;\">\n",
              "      <th></th>\n",
              "      <th>Organic</th>\n",
              "      <th>Paid</th>\n",
              "    </tr>\n",
              "    <tr>\n",
              "      <th>Install_Dates</th>\n",
              "      <th></th>\n",
              "      <th></th>\n",
              "    </tr>\n",
              "  </thead>\n",
              "  <tbody>\n",
              "    <tr>\n",
              "      <th>2020-03-18</th>\n",
              "      <td>8961.0</td>\n",
              "      <td>7359.0</td>\n",
              "    </tr>\n",
              "    <tr>\n",
              "      <th>2020-03-19</th>\n",
              "      <td>8457.0</td>\n",
              "      <td>6739.0</td>\n",
              "    </tr>\n",
              "    <tr>\n",
              "      <th>2020-03-20</th>\n",
              "      <td>8819.0</td>\n",
              "      <td>7254.0</td>\n",
              "    </tr>\n",
              "    <tr>\n",
              "      <th>2020-03-21</th>\n",
              "      <td>4485.0</td>\n",
              "      <td>9552.0</td>\n",
              "    </tr>\n",
              "    <tr>\n",
              "      <th>2020-03-22</th>\n",
              "      <td>5105.0</td>\n",
              "      <td>14804.0</td>\n",
              "    </tr>\n",
              "    <tr>\n",
              "      <th>...</th>\n",
              "      <td>...</td>\n",
              "      <td>...</td>\n",
              "    </tr>\n",
              "    <tr>\n",
              "      <th>2020-05-14</th>\n",
              "      <td>3324.0</td>\n",
              "      <td>8761.0</td>\n",
              "    </tr>\n",
              "    <tr>\n",
              "      <th>2020-05-15</th>\n",
              "      <td>3207.0</td>\n",
              "      <td>7031.0</td>\n",
              "    </tr>\n",
              "    <tr>\n",
              "      <th>2020-05-16</th>\n",
              "      <td>3732.0</td>\n",
              "      <td>7579.0</td>\n",
              "    </tr>\n",
              "    <tr>\n",
              "      <th>2020-05-17</th>\n",
              "      <td>3461.0</td>\n",
              "      <td>8513.0</td>\n",
              "    </tr>\n",
              "    <tr>\n",
              "      <th>2020-05-18</th>\n",
              "      <td>3672.0</td>\n",
              "      <td>8335.0</td>\n",
              "    </tr>\n",
              "  </tbody>\n",
              "</table>\n",
              "<p>61 rows × 2 columns</p>\n",
              "</div>\n",
              "    <div class=\"colab-df-buttons\">\n",
              "\n",
              "  <div class=\"colab-df-container\">\n",
              "    <button class=\"colab-df-convert\" onclick=\"convertToInteractive('df-65ec4721-0df5-40c8-94fd-98faca809b5a')\"\n",
              "            title=\"Convert this dataframe to an interactive table.\"\n",
              "            style=\"display:none;\">\n",
              "\n",
              "  <svg xmlns=\"http://www.w3.org/2000/svg\" height=\"24px\" viewBox=\"0 -960 960 960\">\n",
              "    <path d=\"M120-120v-720h720v720H120Zm60-500h600v-160H180v160Zm220 220h160v-160H400v160Zm0 220h160v-160H400v160ZM180-400h160v-160H180v160Zm440 0h160v-160H620v160ZM180-180h160v-160H180v160Zm440 0h160v-160H620v160Z\"/>\n",
              "  </svg>\n",
              "    </button>\n",
              "\n",
              "  <style>\n",
              "    .colab-df-container {\n",
              "      display:flex;\n",
              "      gap: 12px;\n",
              "    }\n",
              "\n",
              "    .colab-df-convert {\n",
              "      background-color: #E8F0FE;\n",
              "      border: none;\n",
              "      border-radius: 50%;\n",
              "      cursor: pointer;\n",
              "      display: none;\n",
              "      fill: #1967D2;\n",
              "      height: 32px;\n",
              "      padding: 0 0 0 0;\n",
              "      width: 32px;\n",
              "    }\n",
              "\n",
              "    .colab-df-convert:hover {\n",
              "      background-color: #E2EBFA;\n",
              "      box-shadow: 0px 1px 2px rgba(60, 64, 67, 0.3), 0px 1px 3px 1px rgba(60, 64, 67, 0.15);\n",
              "      fill: #174EA6;\n",
              "    }\n",
              "\n",
              "    .colab-df-buttons div {\n",
              "      margin-bottom: 4px;\n",
              "    }\n",
              "\n",
              "    [theme=dark] .colab-df-convert {\n",
              "      background-color: #3B4455;\n",
              "      fill: #D2E3FC;\n",
              "    }\n",
              "\n",
              "    [theme=dark] .colab-df-convert:hover {\n",
              "      background-color: #434B5C;\n",
              "      box-shadow: 0px 1px 3px 1px rgba(0, 0, 0, 0.15);\n",
              "      filter: drop-shadow(0px 1px 2px rgba(0, 0, 0, 0.3));\n",
              "      fill: #FFFFFF;\n",
              "    }\n",
              "  </style>\n",
              "\n",
              "    <script>\n",
              "      const buttonEl =\n",
              "        document.querySelector('#df-65ec4721-0df5-40c8-94fd-98faca809b5a button.colab-df-convert');\n",
              "      buttonEl.style.display =\n",
              "        google.colab.kernel.accessAllowed ? 'block' : 'none';\n",
              "\n",
              "      async function convertToInteractive(key) {\n",
              "        const element = document.querySelector('#df-65ec4721-0df5-40c8-94fd-98faca809b5a');\n",
              "        const dataTable =\n",
              "          await google.colab.kernel.invokeFunction('convertToInteractive',\n",
              "                                                    [key], {});\n",
              "        if (!dataTable) return;\n",
              "\n",
              "        const docLinkHtml = 'Like what you see? Visit the ' +\n",
              "          '<a target=\"_blank\" href=https://colab.research.google.com/notebooks/data_table.ipynb>data table notebook</a>'\n",
              "          + ' to learn more about interactive tables.';\n",
              "        element.innerHTML = '';\n",
              "        dataTable['output_type'] = 'display_data';\n",
              "        await google.colab.output.renderOutput(dataTable, element);\n",
              "        const docLink = document.createElement('div');\n",
              "        docLink.innerHTML = docLinkHtml;\n",
              "        element.appendChild(docLink);\n",
              "      }\n",
              "    </script>\n",
              "  </div>\n",
              "\n",
              "\n",
              "<div id=\"df-5dfa3276-c53e-4ae0-91c6-7a060b87ab62\">\n",
              "  <button class=\"colab-df-quickchart\" onclick=\"quickchart('df-5dfa3276-c53e-4ae0-91c6-7a060b87ab62')\"\n",
              "            title=\"Suggest charts\"\n",
              "            style=\"display:none;\">\n",
              "\n",
              "<svg xmlns=\"http://www.w3.org/2000/svg\" height=\"24px\"viewBox=\"0 0 24 24\"\n",
              "     width=\"24px\">\n",
              "    <g>\n",
              "        <path d=\"M19 3H5c-1.1 0-2 .9-2 2v14c0 1.1.9 2 2 2h14c1.1 0 2-.9 2-2V5c0-1.1-.9-2-2-2zM9 17H7v-7h2v7zm4 0h-2V7h2v10zm4 0h-2v-4h2v4z\"/>\n",
              "    </g>\n",
              "</svg>\n",
              "  </button>\n",
              "\n",
              "<style>\n",
              "  .colab-df-quickchart {\n",
              "      --bg-color: #E8F0FE;\n",
              "      --fill-color: #1967D2;\n",
              "      --hover-bg-color: #E2EBFA;\n",
              "      --hover-fill-color: #174EA6;\n",
              "      --disabled-fill-color: #AAA;\n",
              "      --disabled-bg-color: #DDD;\n",
              "  }\n",
              "\n",
              "  [theme=dark] .colab-df-quickchart {\n",
              "      --bg-color: #3B4455;\n",
              "      --fill-color: #D2E3FC;\n",
              "      --hover-bg-color: #434B5C;\n",
              "      --hover-fill-color: #FFFFFF;\n",
              "      --disabled-bg-color: #3B4455;\n",
              "      --disabled-fill-color: #666;\n",
              "  }\n",
              "\n",
              "  .colab-df-quickchart {\n",
              "    background-color: var(--bg-color);\n",
              "    border: none;\n",
              "    border-radius: 50%;\n",
              "    cursor: pointer;\n",
              "    display: none;\n",
              "    fill: var(--fill-color);\n",
              "    height: 32px;\n",
              "    padding: 0;\n",
              "    width: 32px;\n",
              "  }\n",
              "\n",
              "  .colab-df-quickchart:hover {\n",
              "    background-color: var(--hover-bg-color);\n",
              "    box-shadow: 0 1px 2px rgba(60, 64, 67, 0.3), 0 1px 3px 1px rgba(60, 64, 67, 0.15);\n",
              "    fill: var(--button-hover-fill-color);\n",
              "  }\n",
              "\n",
              "  .colab-df-quickchart-complete:disabled,\n",
              "  .colab-df-quickchart-complete:disabled:hover {\n",
              "    background-color: var(--disabled-bg-color);\n",
              "    fill: var(--disabled-fill-color);\n",
              "    box-shadow: none;\n",
              "  }\n",
              "\n",
              "  .colab-df-spinner {\n",
              "    border: 2px solid var(--fill-color);\n",
              "    border-color: transparent;\n",
              "    border-bottom-color: var(--fill-color);\n",
              "    animation:\n",
              "      spin 1s steps(1) infinite;\n",
              "  }\n",
              "\n",
              "  @keyframes spin {\n",
              "    0% {\n",
              "      border-color: transparent;\n",
              "      border-bottom-color: var(--fill-color);\n",
              "      border-left-color: var(--fill-color);\n",
              "    }\n",
              "    20% {\n",
              "      border-color: transparent;\n",
              "      border-left-color: var(--fill-color);\n",
              "      border-top-color: var(--fill-color);\n",
              "    }\n",
              "    30% {\n",
              "      border-color: transparent;\n",
              "      border-left-color: var(--fill-color);\n",
              "      border-top-color: var(--fill-color);\n",
              "      border-right-color: var(--fill-color);\n",
              "    }\n",
              "    40% {\n",
              "      border-color: transparent;\n",
              "      border-right-color: var(--fill-color);\n",
              "      border-top-color: var(--fill-color);\n",
              "    }\n",
              "    60% {\n",
              "      border-color: transparent;\n",
              "      border-right-color: var(--fill-color);\n",
              "    }\n",
              "    80% {\n",
              "      border-color: transparent;\n",
              "      border-right-color: var(--fill-color);\n",
              "      border-bottom-color: var(--fill-color);\n",
              "    }\n",
              "    90% {\n",
              "      border-color: transparent;\n",
              "      border-bottom-color: var(--fill-color);\n",
              "    }\n",
              "  }\n",
              "</style>\n",
              "\n",
              "  <script>\n",
              "    async function quickchart(key) {\n",
              "      const quickchartButtonEl =\n",
              "        document.querySelector('#' + key + ' button');\n",
              "      quickchartButtonEl.disabled = true;  // To prevent multiple clicks.\n",
              "      quickchartButtonEl.classList.add('colab-df-spinner');\n",
              "      try {\n",
              "        const charts = await google.colab.kernel.invokeFunction(\n",
              "            'suggestCharts', [key], {});\n",
              "      } catch (error) {\n",
              "        console.error('Error during call to suggestCharts:', error);\n",
              "      }\n",
              "      quickchartButtonEl.classList.remove('colab-df-spinner');\n",
              "      quickchartButtonEl.classList.add('colab-df-quickchart-complete');\n",
              "    }\n",
              "    (() => {\n",
              "      let quickchartButtonEl =\n",
              "        document.querySelector('#df-5dfa3276-c53e-4ae0-91c6-7a060b87ab62 button');\n",
              "      quickchartButtonEl.style.display =\n",
              "        google.colab.kernel.accessAllowed ? 'block' : 'none';\n",
              "    })();\n",
              "  </script>\n",
              "</div>\n",
              "    </div>\n",
              "  </div>\n"
            ],
            "application/vnd.google.colaboratory.intrinsic+json": {
              "type": "dataframe",
              "variable_name": "data",
              "summary": "{\n  \"name\": \"data\",\n  \"rows\": 61,\n  \"fields\": [\n    {\n      \"column\": \"Install_Dates\",\n      \"properties\": {\n        \"dtype\": \"date\",\n        \"min\": \"2020-03-18 00:00:00\",\n        \"max\": \"2020-05-18 00:00:00\",\n        \"num_unique_values\": 61,\n        \"samples\": [\n          \"2020-03-18 00:00:00\",\n          \"2020-03-23 00:00:00\",\n          \"2020-05-04 00:00:00\"\n        ],\n        \"semantic_type\": \"\",\n        \"description\": \"\"\n      }\n    },\n    {\n      \"column\": \"Organic\",\n      \"properties\": {\n        \"dtype\": \"number\",\n        \"std\": 1233.357170202378,\n        \"min\": 3207.0,\n        \"max\": 8961.0,\n        \"num_unique_values\": 60,\n        \"samples\": [\n          8961.0,\n          5932.0,\n          4125.0\n        ],\n        \"semantic_type\": \"\",\n        \"description\": \"\"\n      }\n    },\n    {\n      \"column\": \"Paid\",\n      \"properties\": {\n        \"dtype\": \"number\",\n        \"std\": 2879.425562968697,\n        \"min\": 6434.0,\n        \"max\": 21909.0,\n        \"num_unique_values\": 61,\n        \"samples\": [\n          7359.0,\n          17692.0,\n          11389.0\n        ],\n        \"semantic_type\": \"\",\n        \"description\": \"\"\n      }\n    }\n  ]\n}"
            }
          },
          "metadata": {},
          "execution_count": 39
        }
      ]
    },
    {
      "cell_type": "code",
      "source": [
        "import matplotlib.pyplot as plt\n",
        "\n",
        "\n",
        "\n",
        "plt.figure(figsize=(14, 7))\n",
        "plt.plot( data['Paid'], label='Paid Installs', color='blue')\n",
        "plt.plot( data['Organic'], label='Organic Installs', color='green')\n",
        "plt.title('Daily Paid and Organic Installs')\n",
        "plt.xlabel('Date')\n",
        "plt.ylabel('Number of Installs')\n",
        "plt.legend()\n",
        "plt.grid(True)\n",
        "plt.show()"
      ],
      "metadata": {
        "id": "aewp3adhCIXW",
        "colab": {
          "base_uri": "https://localhost:8080/",
          "height": 641
        },
        "collapsed": true,
        "outputId": "64242f24-aa7b-4c9b-fefb-675de6bac671"
      },
      "execution_count": 40,
      "outputs": [
        {
          "output_type": "display_data",
          "data": {
            "text/plain": [
              "<Figure size 1400x700 with 1 Axes>"
            ],
            "image/png": "[encoded data removed]"
          },
          "metadata": {}
        }
      ]
    },
    {
      "cell_type": "code",
      "source": [
        "!pip install pycausalimpact"
      ],
      "metadata": {
        "colab": {
          "base_uri": "https://localhost:8080/",
          "height": 512
        },
        "collapsed": true,
        "id": "YGvUYcnKl3K1",
        "outputId": "3ed2e0a8-c307-4c2e-c4ad-b5aba9c8e4d7"
      },
      "execution_count": 33,
      "outputs": [
        {
          "output_type": "stream",
          "name": "stdout",
          "text": [
            "Collecting pycausalimpact\n",
            "  Downloading pycausalimpact-0.1.1-py2.py3-none-any.whl (30 kB)\n",
            "Requirement already satisfied: numpy in /usr/local/lib/python3.10/dist-packages (from pycausalimpact) (1.25.2)\n",
            "Requirement already satisfied: scipy in /usr/local/lib/python3.10/dist-packages (from pycausalimpact) (1.11.4)\n",
            "Requirement already satisfied: statsmodels>=0.11.0 in /usr/local/lib/python3.10/dist-packages (from pycausalimpact) (0.14.2)\n",
            "Requirement already satisfied: matplotlib>=2.2.3 in /usr/local/lib/python3.10/dist-packages (from pycausalimpact) (3.7.1)\n",
            "Requirement already satisfied: jinja2>=2.10 in /usr/local/lib/python3.10/dist-packages (from pycausalimpact) (3.1.4)\n",
            "Requirement already satisfied: MarkupSafe>=2.0 in /usr/local/lib/python3.10/dist-packages (from jinja2>=2.10->pycausalimpact) (2.1.5)\n",
            "Requirement already satisfied: contourpy>=1.0.1 in /usr/local/lib/python3.10/dist-packages (from matplotlib>=2.2.3->pycausalimpact) (1.2.1)\n",
            "Requirement already satisfied: cycler>=0.10 in /usr/local/lib/python3.10/dist-packages (from matplotlib>=2.2.3->pycausalimpact) (0.12.1)\n",
            "Requirement already satisfied: fonttools>=4.22.0 in /usr/local/lib/python3.10/dist-packages (from matplotlib>=2.2.3->pycausalimpact) (4.51.0)\n",
            "Requirement already satisfied: kiwisolver>=1.0.1 in /usr/local/lib/python3.10/dist-packages (from matplotlib>=2.2.3->pycausalimpact) (1.4.5)\n",
            "Requirement already satisfied: packaging>=20.0 in /usr/local/lib/python3.10/dist-packages (from matplotlib>=2.2.3->pycausalimpact) (24.0)\n",
            "Requirement already satisfied: pillow>=6.2.0 in /usr/local/lib/python3.10/dist-packages (from matplotlib>=2.2.3->pycausalimpact) (9.4.0)\n",
            "Requirement already satisfied: pyparsing>=2.3.1 in /usr/local/lib/python3.10/dist-packages (from matplotlib>=2.2.3->pycausalimpact) (3.1.2)\n",
            "Requirement already satisfied: python-dateutil>=2.7 in /usr/local/lib/python3.10/dist-packages (from matplotlib>=2.2.3->pycausalimpact) (2.8.2)\n",
            "Requirement already satisfied: pandas!=2.1.0,>=1.4 in /usr/local/lib/python3.10/dist-packages (from statsmodels>=0.11.0->pycausalimpact) (2.0.3)\n",
            "Requirement already satisfied: patsy>=0.5.6 in /usr/local/lib/python3.10/dist-packages (from statsmodels>=0.11.0->pycausalimpact) (0.5.6)\n",
            "Requirement already satisfied: pytz>=2020.1 in /usr/local/lib/python3.10/dist-packages (from pandas!=2.1.0,>=1.4->statsmodels>=0.11.0->pycausalimpact) (2023.4)\n",
            "Requirement already satisfied: tzdata>=2022.1 in /usr/local/lib/python3.10/dist-packages (from pandas!=2.1.0,>=1.4->statsmodels>=0.11.0->pycausalimpact) (2024.1)\n",
            "Requirement already satisfied: six in /usr/local/lib/python3.10/dist-packages (from patsy>=0.5.6->statsmodels>=0.11.0->pycausalimpact) (1.16.0)\n",
            "Installing collected packages: pycausalimpact\n",
            "Successfully installed pycausalimpact-0.1.1\n"
          ]
        },
        {
          "output_type": "display_data",
          "data": {
            "application/vnd.colab-display-data+json": {
              "pip_warning": {
                "packages": [
                  "causalimpact"
                ]
              },
              "id": "7fbc006b1b274c168e0b4d33a5a634c7"
            }
          },
          "metadata": {}
        }
      ]
    },
    {
      "cell_type": "code",
      "source": [
        "from causalimpact import CausalImpact\n",
        "\n",
        "\n",
        "data_for_impact = data[['Organic','Paid']]\n",
        "pre_period = ['2020-04-01', '2020-05-10']\n",
        "post_period = ['2020-05-11', '2020-05-18']\n",
        "\n",
        "impact = CausalImpact(data_for_impact, pre_period, post_period)\n",
        "\n",
        "print(impact.summary('report'))"
      ],
      "metadata": {
        "colab": {
          "base_uri": "https://localhost:8080/"
        },
        "collapsed": true,
        "id": "hjJqnSaBE23h",
        "outputId": "5576eeb6-34cc-4300-e909-302ffeafcd30"
      },
      "execution_count": 41,
      "outputs": [
        {
          "output_type": "stream",
          "name": "stderr",
          "text": [
            "/usr/local/lib/python3.10/dist-packages/statsmodels/tsa/base/tsa_model.py:473: ValueWarning: No frequency information was provided, so inferred frequency D will be used.\n",
            "  self._init_dates(dates, freq)\n",
            "/usr/local/lib/python3.10/dist-packages/statsmodels/base/optimizer.py:19: FutureWarning: Keyword arguments have been passed to the optimizer that have no effect. The list of allowed keyword arguments for method lbfgs is: m, pgtol, factr, maxfun, epsilon, approx_grad, bounds, loglike_and_score, iprint. The list of unsupported keyword arguments passed include: standardize, nseasons. After release 0.14, this will raise.\n",
            "  warnings.warn(\n",
            "/usr/local/lib/python3.10/dist-packages/statsmodels/tsa/statespace/representation.py:374: FutureWarning: Unknown keyword arguments: dict_keys(['alpha']).Passing unknown keyword arguments will raise a TypeError beginning in version 0.15.\n",
            "  warnings.warn(msg, FutureWarning)\n",
            "/usr/local/lib/python3.10/dist-packages/statsmodels/tsa/base/tsa_model.py:473: ValueWarning: No frequency information was provided, so inferred frequency D will be used.\n",
            "  self._init_dates(dates, freq)\n"
          ]
        },
        {
          "output_type": "stream",
          "name": "stdout",
          "text": [
            "Analysis report {CausalImpact}\n",
            "\n",
            "\n",
            "During the post-intervention period, the response variable had\n",
            "an average value of approx. 3631.5. In the absence of an\n",
            "intervention, we would have expected an average response of 3546.51.\n",
            "The 95% interval of this counterfactual prediction is [3179.96, 3937.36].\n",
            "Subtracting this prediction from the observed response yields\n",
            "an estimate of the causal effect the intervention had on the\n",
            "response variable. This effect is 84.99 with a 95% interval of\n",
            "[-305.86, 451.54]. For a discussion of the significance of this effect,\n",
            "see below.\n",
            "\n",
            "\n",
            "Summing up the individual data points during the post-intervention\n",
            "period (which can only sometimes be meaningfully interpreted), the\n",
            "response variable had an overall value of 29052.0.\n",
            "Had the intervention not taken place, we would have expected\n",
            "a sum of 28372.09. The 95% interval of this prediction is [25439.69, 31498.85].\n",
            "\n",
            "\n",
            "The above results are given in terms of absolute numbers. In relative\n",
            "terms, the response variable showed an increase of +2.4%. The 95%\n",
            "interval of this percentage is [-8.62%, 12.73%].\n",
            "\n",
            "\n",
            "This means that, although the intervention appears to have caused a\n",
            "positive effect, this effect is not statistically significant when\n",
            "considering the entire post-intervention period as a whole. Individual\n",
            "days or shorter stretches within the intervention period may of course\n",
            "still have had a significant effect, as indicated whenever the lower\n",
            "limit of the impact time series (lower plot) was above zero.\n",
            "\n",
            "\n",
            "The apparent effect could be the result of random fluctuations that\n",
            "are unrelated to the intervention. This is often the case when the\n",
            "intervention period is very long and includes much of the time when\n",
            "the effect has already worn off. It can also be the case when the\n",
            "intervention period is too short to distinguish the signal from the\n",
            "noise. Finally, failing to find a significant effect can happen when\n",
            "there are not enough control variables or when these variables do not\n",
            "correlate well with the response variable during the learning period.\n",
            "\n",
            "\n",
            "The probability of obtaining this effect by chance is p = 33.07%.\n",
            "This means the effect may be spurious and would generally not be\n",
            "considered statistically significant.\n"
          ]
        }
      ]
    },
    {
      "cell_type": "code",
      "source": [
        "from causalimpact import CausalImpact\n",
        "\n",
        "\n",
        "data_for_impact = data[['Organic','Paid']]\n",
        "pre_period = ['2020-03-18', '2020-05-10']\n",
        "post_period = ['2020-05-11', '2020-05-18']\n",
        "\n",
        "impact = CausalImpact(data_for_impact, pre_period, post_period)\n",
        "\n",
        "print(impact.summary('report'))"
      ],
      "metadata": {
        "colab": {
          "base_uri": "https://localhost:8080/"
        },
        "collapsed": true,
        "id": "nUS47afwpyx8",
        "outputId": "54d9498c-c669-4101-a660-d558cec828b2"
      },
      "execution_count": 42,
      "outputs": [
        {
          "output_type": "stream",
          "name": "stderr",
          "text": [
            "/usr/local/lib/python3.10/dist-packages/statsmodels/tsa/base/tsa_model.py:473: ValueWarning: A date index has been provided, but it has no associated frequency information and so will be ignored when e.g. forecasting.\n",
            "  self._init_dates(dates, freq)\n",
            "/usr/local/lib/python3.10/dist-packages/statsmodels/base/optimizer.py:19: FutureWarning: Keyword arguments have been passed to the optimizer that have no effect. The list of allowed keyword arguments for method lbfgs is: m, pgtol, factr, maxfun, epsilon, approx_grad, bounds, loglike_and_score, iprint. The list of unsupported keyword arguments passed include: standardize, nseasons. After release 0.14, this will raise.\n",
            "  warnings.warn(\n",
            "/usr/local/lib/python3.10/dist-packages/statsmodels/tsa/base/tsa_model.py:836: ValueWarning: No supported index is available. Prediction results will be given with an integer index beginning at `start`.\n",
            "  return get_prediction_index(\n",
            "/usr/local/lib/python3.10/dist-packages/statsmodels/tsa/base/tsa_model.py:836: FutureWarning: No supported index is available. In the next version, calling this method in a model without a supported index will result in an exception.\n",
            "  return get_prediction_index(\n",
            "/usr/local/lib/python3.10/dist-packages/statsmodels/tsa/statespace/representation.py:374: FutureWarning: Unknown keyword arguments: dict_keys(['alpha']).Passing unknown keyword arguments will raise a TypeError beginning in version 0.15.\n",
            "  warnings.warn(msg, FutureWarning)\n",
            "/usr/local/lib/python3.10/dist-packages/statsmodels/tsa/base/tsa_model.py:473: ValueWarning: No frequency information was provided, so inferred frequency D will be used.\n",
            "  self._init_dates(dates, freq)\n"
          ]
        },
        {
          "output_type": "stream",
          "name": "stdout",
          "text": [
            "Analysis report {CausalImpact}\n",
            "\n",
            "\n",
            "During the post-intervention period, the response variable had\n",
            "an average value of approx. 3631.5. In the absence of an\n",
            "intervention, we would have expected an average response of 4523.07.\n",
            "The 95% interval of this counterfactual prediction is [3584.15, 5481.65].\n",
            "Subtracting this prediction from the observed response yields\n",
            "an estimate of the causal effect the intervention had on the\n",
            "response variable. This effect is -891.57 with a 95% interval of\n",
            "[-1850.15, 47.35]. For a discussion of the significance of this effect,\n",
            "see below.\n",
            "\n",
            "\n",
            "Summing up the individual data points during the post-intervention\n",
            "period (which can only sometimes be meaningfully interpreted), the\n",
            "response variable had an overall value of 29052.0.\n",
            "Had the intervention not taken place, we would have expected\n",
            "a sum of 36184.58. The 95% interval of this prediction is [28673.22, 43853.2].\n",
            "\n",
            "\n",
            "The above results are given in terms of absolute numbers. In relative\n",
            "terms, the response variable showed a decrease of -19.71%. The 95%\n",
            "interval of this percentage is [-40.9%, 1.05%].\n",
            "This means that, although it may look as though the intervention has\n",
            "exerted a negative effect on the response variable when considering\n",
            "the intervention period as a whole, this effect is not statistically\n",
            "significant and so cannot be meaningfully interpreted.\n",
            "\n",
            "\n",
            "The apparent effect could be the result of random fluctuations that\n",
            "are unrelated to the intervention. This is often the case when the\n",
            "intervention period is very long and includes much of the time when\n",
            "the effect has already worn off. It can also be the case when the\n",
            "intervention period is too short to distinguish the signal from the\n",
            "noise. Finally, failing to find a significant effect can happen when\n",
            "there are not enough control variables or when these variables do not\n",
            "correlate well with the response variable during the learning period.\n",
            "\n",
            "\n",
            "The probability of obtaining this effect by chance is very small\n",
            "(Bayesian one-sided tail-area probability p = 0.03).\n",
            "This means the causal effect can be considered statistically\n",
            "significant.\n"
          ]
        }
      ]
    },
    {
      "cell_type": "markdown",
      "source": [
        "Я провел **два анализа** с различным интервала пре и пост периода, для сравнения результата, из за резких изменений в конце марта. В **первом тесте** для пре период начинается с апреля месяца отчет показывает, что изначальная теория выдвинутая о связи рекламного и органического траффика: когда маркетологи привлекают больше рекламного траффика, растет и органический - является верной с приростом в 2.4%. Однако этот результат **статистические не значителен**. Во **втором варианте**, где пре период начинается с самого первой даты 18 марта, показывает обратную тенденцию и результат **статистически значителен**. Такие результаты могут говорить о том, что на эту связь влияет и другие факторы. Поэтому **новая гипотеза** звучит так, Связь рекламного и органического трафика в большей степени зависит от страны, которая **потверждена снизу.**"
      ],
      "metadata": {
        "id": "Kriw22gsMRGu"
      }
    },
    {
      "cell_type": "code",
      "source": [
        "import sqlite3\n",
        "import pandas as pd\n",
        "\n",
        "\n",
        "conn = sqlite3.connect('testcase.db')\n",
        "query = \"SELECT * FROM source_comparison;\"\n",
        "df_n = pd.read_sql(query, conn)\n",
        "df_n['Install_Dates'] = pd.to_datetime(df_n['Install_Dates'])\n",
        "print(df_n)\n"
      ],
      "metadata": {
        "colab": {
          "base_uri": "https://localhost:8080/"
        },
        "id": "nS9Qo35ZMVT2",
        "outputId": "fd3bfb09-dbc0-410f-dca8-a9711daf83f4"
      },
      "execution_count": 43,
      "outputs": [
        {
          "output_type": "stream",
          "name": "stdout",
          "text": [
            "      Install_Dates source_type Country  installs\n",
            "0        2020-05-18        Paid      PY       4.0\n",
            "1        2020-04-14        Paid      FR      35.0\n",
            "2        2020-04-30        Paid      JP      25.0\n",
            "3        2020-03-20        Paid      DE      11.0\n",
            "4        2020-04-30        Paid      IT       8.0\n",
            "...             ...         ...     ...       ...\n",
            "18601    2020-04-14        Paid      IQ       1.0\n",
            "18602    2020-03-18     Organic      MM     130.0\n",
            "18603    2020-05-06        Paid      CI       2.0\n",
            "18604    2020-04-20     Organic      HT       1.0\n",
            "18605    2020-04-14     Organic      SO       4.0\n",
            "\n",
            "[18606 rows x 4 columns]\n"
          ]
        }
      ]
    },
    {
      "cell_type": "code",
      "source": [
        "correlations = {}\n",
        "for country in df_n['Country'].unique():\n",
        "    filtered_data = df_n[df_n['Country'] == country]\n",
        "    if filtered_data['source_type'].nunique() > 1:\n",
        "        country_traffic = filtered_data.pivot_table(index='Install_Dates', columns='source_type', values='installs', aggfunc='sum')\n",
        "        correlation = country_traffic.corr().loc['Paid', 'Organic']\n",
        "        correlations[country] = correlation\n",
        "\n",
        "correlations\n"
      ],
      "metadata": {
        "colab": {
          "base_uri": "https://localhost:8080/"
        },
        "id": "Om2e96SXM_rm",
        "outputId": "90d2857d-6233-45cd-856c-c05ca685549c",
        "collapsed": true
      },
      "execution_count": 44,
      "outputs": [
        {
          "output_type": "execute_result",
          "data": {
            "text/plain": [
              "{'PY': 0.6615165051775821,\n",
              " 'FR': 0.573454958546898,\n",
              " 'JP': 0.28184769427961054,\n",
              " 'DE': 0.2223510258902258,\n",
              " 'IT': 0.5894354348548684,\n",
              " 'KE': 0.3333333333333333,\n",
              " 'NZ': 0.0079027865088686,\n",
              " 'EG': 0.09441410325218971,\n",
              " 'UA': 0.3384436154275192,\n",
              " 'IR': 0.19044215058568914,\n",
              " 'CZ': 0.6264807809189527,\n",
              " 'PT': 0.7130447689652596,\n",
              " 'VE': -0.008733376427063422,\n",
              " 'ID': 0.2271540684967117,\n",
              " 'BY': 0.8053283653102349,\n",
              " 'RO': 0.4991256856104117,\n",
              " 'IE': 0.2594124993916956,\n",
              " 'PG': nan,\n",
              " 'KZ': 0.6849252334569452,\n",
              " 'NC': nan,\n",
              " 'PA': -0.27604764625501743,\n",
              " 'DZ': 0.41286251621645886,\n",
              " 'AR': 0.4420109666902476,\n",
              " 'UY': -0.07930294188883569,\n",
              " 'TZ': nan,\n",
              " 'AE': 0.01660899967704581,\n",
              " 'BA': -0.29688299357391473,\n",
              " 'BG': 0.05051773821850683,\n",
              " 'LB': 0.25326962483557325,\n",
              " 'SE': 0.4283021853340074,\n",
              " 'FM': nan,\n",
              " 'MA': 0.1510512747931621,\n",
              " 'SN': -0.21119430154775584,\n",
              " 'ML': 0.1777046633277277,\n",
              " 'CH': 0.4065660456325589,\n",
              " 'GT': -0.19931048803730714,\n",
              " 'HU': -0.002537045949391084,\n",
              " 'GR': -0.2032030424983054,\n",
              " 'HR': 0.5482707555640106,\n",
              " 'BJ': nan,\n",
              " 'MK': -0.3563483225498992,\n",
              " 'UK': -0.11038373843532706,\n",
              " 'SI': 0.1934861994155169,\n",
              " 'SO': 0.306950745222355,\n",
              " 'IQ': 0.08559597438220409,\n",
              " 'MM': 0.322299086182452,\n",
              " 'GE': 0.6869470539425707,\n",
              " 'TW': 0.3741044033737379,\n",
              " 'PK': 0.41495540469301134,\n",
              " 'ET': -0.42535297803724836,\n",
              " 'NI': 0.08675664979695859,\n",
              " 'NO': 0.33621269347134775,\n",
              " 'KW': 0.8550394359178938,\n",
              " 'PL': 0.862297338134395,\n",
              " 'BR': 0.5420937593944678,\n",
              " 'US': 0.25574278337877726,\n",
              " 'IN': 0.7201753033257288,\n",
              " 'MR': -1.0,\n",
              " 'HK': 0.23197182276179876,\n",
              " 'RU': 0.4606838636218643,\n",
              " 'SA': 0.06060927907030168,\n",
              " 'RS': -0.15205574003906905,\n",
              " 'SV': -0.19798433806678423,\n",
              " 'VN': 0.3215861451957475,\n",
              " 'UZ': 0.681662813079405,\n",
              " 'GM': nan,\n",
              " 'LV': 0.5268955863940231,\n",
              " 'BE': 0.2899193995559736,\n",
              " 'DO': -0.031498888518890024,\n",
              " 'GH': nan,\n",
              " 'PS': nan,\n",
              " 'KH': -0.2486914241442221,\n",
              " 'TN': 0.31417486985808973,\n",
              " 'NP': 0.9372275583493509,\n",
              " 'CL': 0.3914136317469709,\n",
              " 'LK': 0.5193690072038227,\n",
              " 'TR': 0.1260468141974946,\n",
              " 'IS': -0.25819888974716126,\n",
              " 'SK': 0.6625165486814079,\n",
              " 'CM': nan,\n",
              " 'AL': 0.42799831928163207,\n",
              " 'KR': 0.5440889652327726,\n",
              " 'PH': 0.2826614919193808,\n",
              " 'NL': 0.09078817543986069,\n",
              " 'CR': 0.13787720527532155,\n",
              " 'RW': nan,\n",
              " 'IL': 0.3883654645231141,\n",
              " 'LT': 0.25851281534326476,\n",
              " 'CU': -0.0628793563232802,\n",
              " 'FJ': -0.3999999999999998,\n",
              " 'JO': 0.01532725052220923,\n",
              " 'AT': 0.6813295399968752,\n",
              " 'TJ': 0.17070667133180473,\n",
              " 'AU': 0.34173324590026183,\n",
              " 'KG': 0.1125565574157113,\n",
              " 'LY': -0.0015931781174114313,\n",
              " 'SY': -0.05812238628183012,\n",
              " 'AF': 0.22326054790822045,\n",
              " 'PE': -0.1363222542257042,\n",
              " 'MD': 0.5405079733188383,\n",
              " 'LA': 0.18888880201539943,\n",
              " 'CA': 0.23754503075262207,\n",
              " 'SG': 0.3616102102425599,\n",
              " 'BD': 0.905482662488429,\n",
              " 'ME': -0.033426313523243725,\n",
              " 'BN': 1.0,\n",
              " 'DK': 0.252808558060135,\n",
              " 'MN': 0.39721079644635954,\n",
              " 'AZ': -0.028968065260067184,\n",
              " 'TT': nan,\n",
              " 'AM': 0.16631228046335994,\n",
              " 'MY': 0.4253269367938007,\n",
              " 'MW': nan,\n",
              " 'HN': 0.36463741045461445,\n",
              " 'SR': -0.15850573957717806,\n",
              " 'SD': 0.665613459631634,\n",
              " 'EE': -0.2930026560268553,\n",
              " 'EC': 0.12558406565452843,\n",
              " 'TG': nan,\n",
              " 'CY': -0.34854833778846284,\n",
              " 'AG': nan,\n",
              " 'QA': 0.1416332759565743,\n",
              " 'FI': 0.285530951160428,\n",
              " 'ZA': -0.3024116491930132,\n",
              " 'YE': 0.021306174792170895,\n",
              " 'MX': 0.4221283982598675,\n",
              " 'MG': nan,\n",
              " 'GY': nan,\n",
              " 'SC': nan,\n",
              " 'CO': 0.17759566955877962,\n",
              " 'CN': 0.5118857084161588,\n",
              " 'OM': 0.19626716799471491,\n",
              " 'ES': 0.14679469492674818,\n",
              " 'TH': 0.022111783600652593,\n",
              " 'LI': nan,\n",
              " 'LC': nan,\n",
              " 'BF': -0.15971914124998493,\n",
              " 'BT': nan,\n",
              " 'PR': nan,\n",
              " 'WS': nan,\n",
              " 'GN': nan,\n",
              " 'NG': 1.0000000000000002,\n",
              " 'GP': nan,\n",
              " 'RE': nan,\n",
              " 'AX': nan,\n",
              " 'BZ': nan,\n",
              " 'LU': -0.20672455764868078,\n",
              " 'BH': nan,\n",
              " 'BO': -0.030010840158336428,\n",
              " 'ZW': nan,\n",
              " 'CD': 0.0,\n",
              " 'SZ': nan,\n",
              " 'MU': nan,\n",
              " 'PF': nan,\n",
              " 'AO': -0.9999999999999999,\n",
              " 'CI': 0.2716767047797919,\n",
              " 'JM': nan,\n",
              " 'GG': nan,\n",
              " 'CG': 0.2970263822191312,\n",
              " 'SL': nan,\n",
              " 'LR': nan,\n",
              " 'MV': nan,\n",
              " 'DM': nan,\n",
              " 'TL': nan,\n",
              " 'GU': nan,\n",
              " 'HT': nan,\n",
              " 'AW': nan,\n",
              " 'TD': nan,\n",
              " 'MT': nan,\n",
              " 'GA': 0.49999999999999983,\n",
              " 'MZ': nan,\n",
              " 'DJ': nan,\n",
              " 'CK': nan,\n",
              " 'MH': nan,\n",
              " 'UG': nan,\n",
              " 'ZM': nan,\n",
              " 'VI': nan,\n",
              " 'CV': nan,\n",
              " 'VC': nan,\n",
              " 'BW': nan,\n",
              " 'NE': nan,\n",
              " 'TO': nan,\n",
              " 'MQ': nan,\n",
              " 'BB': nan,\n",
              " 'GD': nan,\n",
              " 'IM': nan,\n",
              " 'SS': nan,\n",
              " 'GF': nan,\n",
              " 'GI': nan,\n",
              " 'GL': nan,\n",
              " 'BI': nan,\n",
              " 'SB': nan,\n",
              " 'AD': nan,\n",
              " 'KI': nan,\n",
              " 'VU': nan,\n",
              " 'EU': nan}"
            ]
          },
          "metadata": {},
          "execution_count": 44
        }
      ]
    }
  ]
}